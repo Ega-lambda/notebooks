{
 "cells": [
  {
   "cell_type": "markdown",
   "metadata": {},
   "source": [
    "# 2018 Oscars Predictions: How BigML got 6 for 6!\n",
    "\n",
    "## Looking for the data\n",
    "\n",
    "Machine Learning bases its predictions in data of the past, so we had to obtain all the information we could about the history of the Oscars nominees and winners for each analyzed category. The first place that comes to mind is IMDB, where anyone can find all the relevant information about movies these days. We expected to be able to get that data by using an API access. There are several APIs, like the [Open Movies Database](http://imdbapi.net/), that allow you to search movies by title or year and return basic information: title, rating, genre, etc."
   ]
  },
  {
   "cell_type": "code",
   "execution_count": 3,
   "metadata": {
    "collapsed": false
   },
   "outputs": [
    {
     "data": {
      "text/html": [
       "<div>\n",
       "<table border=\"1\" class=\"dataframe\">\n",
       "  <thead>\n",
       "    <tr style=\"text-align: right;\">\n",
       "      <th></th>\n",
       "      <th>year</th>\n",
       "      <th>movie</th>\n",
       "      <th>movie_id</th>\n",
       "      <th>Certificate</th>\n",
       "      <th>Duration</th>\n",
       "      <th>Genre</th>\n",
       "      <th>Rate</th>\n",
       "      <th>Metascore</th>\n",
       "      <th>Synopsis</th>\n",
       "      <th>Director_Stars</th>\n",
       "      <th>Votes</th>\n",
       "      <th>Gross</th>\n",
       "    </tr>\n",
       "  </thead>\n",
       "  <tbody>\n",
       "    <tr>\n",
       "      <th>0</th>\n",
       "      <td>2000</td>\n",
       "      <td>Unbreakable</td>\n",
       "      <td>tt0217869</td>\n",
       "      <td>PG-13</td>\n",
       "      <td>106</td>\n",
       "      <td>Drama, Mystery, Sci-Fi</td>\n",
       "      <td>7.2</td>\n",
       "      <td>62</td>\n",
       "      <td>A man learns something extraordinary about him...</td>\n",
       "      <td>Director: M. Night Shyamalan | Stars: Bruce Wi...</td>\n",
       "      <td>251457</td>\n",
       "      <td>95000000</td>\n",
       "    </tr>\n",
       "    <tr>\n",
       "      <th>1</th>\n",
       "      <td>2000</td>\n",
       "      <td>Requiem for a Dream</td>\n",
       "      <td>tt0180093</td>\n",
       "      <td>R</td>\n",
       "      <td>102</td>\n",
       "      <td>Drama</td>\n",
       "      <td>8.4</td>\n",
       "      <td>68</td>\n",
       "      <td>The drug-induced utopias of four Coney Island ...</td>\n",
       "      <td>Director: Darren Aronofsky | Stars: Ellen Burs...</td>\n",
       "      <td>596759</td>\n",
       "      <td>3610000</td>\n",
       "    </tr>\n",
       "    <tr>\n",
       "      <th>2</th>\n",
       "      <td>2000</td>\n",
       "      <td>Snatch</td>\n",
       "      <td>tt0208092</td>\n",
       "      <td>R</td>\n",
       "      <td>102</td>\n",
       "      <td>Comedy, Crime</td>\n",
       "      <td>8.3</td>\n",
       "      <td>55</td>\n",
       "      <td>Unscrupulous boxing promoters, violent bookmak...</td>\n",
       "      <td>Director: Guy Ritchie | Stars: Jason Statham, ...</td>\n",
       "      <td>623296</td>\n",
       "      <td>30090000</td>\n",
       "    </tr>\n",
       "    <tr>\n",
       "      <th>3</th>\n",
       "      <td>2000</td>\n",
       "      <td>Gladiator</td>\n",
       "      <td>tt0172495</td>\n",
       "      <td>R</td>\n",
       "      <td>155</td>\n",
       "      <td>Action, Adventure, Drama</td>\n",
       "      <td>8.5</td>\n",
       "      <td>64</td>\n",
       "      <td>When a Roman general is betrayed and his famil...</td>\n",
       "      <td>Director: Ridley Scott | Stars: Russell Crowe,...</td>\n",
       "      <td>1024040</td>\n",
       "      <td>187670000</td>\n",
       "    </tr>\n",
       "    <tr>\n",
       "      <th>4</th>\n",
       "      <td>2000</td>\n",
       "      <td>Memento</td>\n",
       "      <td>tt0209144</td>\n",
       "      <td>R</td>\n",
       "      <td>113</td>\n",
       "      <td>Mystery, Thriller</td>\n",
       "      <td>8.5</td>\n",
       "      <td>80</td>\n",
       "      <td>A man juggles searching for his wife's murdere...</td>\n",
       "      <td>Director: Christopher Nolan | Stars: Guy Pearc...</td>\n",
       "      <td>879688</td>\n",
       "      <td>25530000</td>\n",
       "    </tr>\n",
       "  </tbody>\n",
       "</table>\n",
       "</div>"
      ],
      "text/plain": [
       "   year                movie   movie_id Certificate  Duration  \\\n",
       "0  2000          Unbreakable  tt0217869       PG-13       106   \n",
       "1  2000  Requiem for a Dream  tt0180093           R       102   \n",
       "2  2000               Snatch  tt0208092           R       102   \n",
       "3  2000            Gladiator  tt0172495           R       155   \n",
       "4  2000              Memento  tt0209144           R       113   \n",
       "5  2000      American Psycho  tt0144084           R       102   \n",
       "6  2000                X-Men  tt0120903       PG-13       104   \n",
       "7  2000            Cast Away  tt0162222       PG-13       143   \n",
       "8  2000     The Replacements  tt0191397       PG-13       118   \n",
       "9  2000  Remember the Titans  tt0210945          PG       113   \n",
       "\n",
       "                       Genre  Rate  Metascore  \\\n",
       "0     Drama, Mystery, Sci-Fi   7.2         62   \n",
       "1                      Drama   8.4         68   \n",
       "2              Comedy, Crime   8.3         55   \n",
       "3   Action, Adventure, Drama   8.5         64   \n",
       "4          Mystery, Thriller   8.5         80   \n",
       "5               Crime, Drama   7.6         64   \n",
       "6  Action, Adventure, Sci-Fi   7.4         64   \n",
       "7  Adventure, Drama, Romance   7.7         73   \n",
       "8              Comedy, Sport   6.5         30   \n",
       "9    Biography, Drama, Sport   7.8         48   \n",
       "\n",
       "                                            Synopsis  \\\n",
       "0  A man learns something extraordinary about him...   \n",
       "1  The drug-induced utopias of four Coney Island ...   \n",
       "2  Unscrupulous boxing promoters, violent bookmak...   \n",
       "3  When a Roman general is betrayed and his famil...   \n",
       "4  A man juggles searching for his wife's murdere...   \n",
       "5  A wealthy New York investment banking executiv...   \n",
       "6  Two mutants come to a private academy for thei...   \n",
       "7  A FedEx executive must transform himself physi...   \n",
       "8  During a pro football strike, the owners hire ...   \n",
       "9  The true story of a newly appointed African-Am...   \n",
       "\n",
       "                                      Director_Stars    Votes       Gross  \n",
       "0  Director: M. Night Shyamalan | Stars: Bruce Wi...   251457   $95000000  \n",
       "1  Director: Darren Aronofsky | Stars: Ellen Burs...   596759    $3610000  \n",
       "2  Director: Guy Ritchie | Stars: Jason Statham, ...   623296   $30090000  \n",
       "3  Director: Ridley Scott | Stars: Russell Crowe,...  1024040  $187670000  \n",
       "4  Director: Christopher Nolan | Stars: Guy Pearc...   879688   $25530000  \n",
       "5  Director: Mary Harron | Stars: Christian Bale,...   371133   $15050000  \n",
       "6  Director: Bryan Singer | Stars: Patrick Stewar...   468351  $157300000  \n",
       "7  Director: Robert Zemeckis | Stars: Tom Hanks, ...   409544  $233630000  \n",
       "8  Director: Howard Deutch | Stars: Keanu Reeves,...    49276   $44740000  \n",
       "9  Director: Boaz Yakin | Stars: Denzel Washingto...   165555  $115650000  "
      ]
     },
     "execution_count": 3,
     "metadata": {},
     "output_type": "execute_result"
    }
   ],
   "source": [
    "import pandas\n",
    "pandas.read_csv('Movies.csv')"
   ]
  },
  {
   "cell_type": "markdown",
   "metadata": {},
   "source": [
    " However, we still lacked the main information we needed: the award winners per category. It was turn to ask our data wrangling team to help us!"
   ]
  },
  {
   "cell_type": "markdown",
   "metadata": {},
   "source": [
    "## Feeding from many sources\n",
    "\n",
    "After browsing the different sections in IMDB's web site, we realized that a lot of valuable information was there. Not only the winners and nominees of the Oscars, but also the winners of the BAFTA awards, the Golden Globes, and other important prizes.\n",
    "\n",
    "We needed to adapt our retrieval methods to fit the format of the web presentation for these information items, but finally we were able to extract the following texts:"
   ]
  },
  {
   "cell_type": "code",
   "execution_count": 12,
   "metadata": {
    "collapsed": false
   },
   "outputs": [
    {
     "data": {
      "text/html": [
       "<div>\n",
       "<table border=\"1\" class=\"dataframe\">\n",
       "  <thead>\n",
       "    <tr style=\"text-align: right;\">\n",
       "      <th></th>\n",
       "      <th>year</th>\n",
       "      <th>movie_id</th>\n",
       "      <th>awards</th>\n",
       "      <th>won_nominated</th>\n",
       "      <th>categories</th>\n",
       "    </tr>\n",
       "  </thead>\n",
       "  <tbody>\n",
       "    <tr>\n",
       "      <th>0</th>\n",
       "      <td>2017</td>\n",
       "      <td>tt5726616</td>\n",
       "      <td>Academy Awards, USA</td>\n",
       "      <td>Nominated; Nominated; Nominated; Nominated</td>\n",
       "      <td>Best Performance by an Actor in a Leading Role...</td>\n",
       "    </tr>\n",
       "    <tr>\n",
       "      <th>1</th>\n",
       "      <td>2017</td>\n",
       "      <td>tt5726616</td>\n",
       "      <td>Golden Globes, USA</td>\n",
       "      <td>Nominated; Nominated; Nominated</td>\n",
       "      <td>Best Motion Picture - Drama; Best Performance ...</td>\n",
       "    </tr>\n",
       "    <tr>\n",
       "      <th>2</th>\n",
       "      <td>2017</td>\n",
       "      <td>tt5726616</td>\n",
       "      <td>BAFTA Awards</td>\n",
       "      <td>Won; Nominated; Nominated; Nominated</td>\n",
       "      <td>Best Screenplay (Adapted); Best Film; Best Lea...</td>\n",
       "    </tr>\n",
       "    <tr>\n",
       "      <th>3</th>\n",
       "      <td>2017</td>\n",
       "      <td>tt5726616</td>\n",
       "      <td>Screen Actors Guild Awards</td>\n",
       "      <td>Nominated</td>\n",
       "      <td>Outstanding Performance by a Male Actor in a L...</td>\n",
       "    </tr>\n",
       "    <tr>\n",
       "      <th>4</th>\n",
       "      <td>2017</td>\n",
       "      <td>tt5726616</td>\n",
       "      <td>AACTA International Awards</td>\n",
       "      <td>Nominated; Nominated; Nominated; Nominated; No...</td>\n",
       "      <td>Best Film; Best Direction; Best Screenplay; Be...</td>\n",
       "    </tr>\n",
       "    <tr>\n",
       "      <th>5</th>\n",
       "      <td>2017</td>\n",
       "      <td>tt5726616</td>\n",
       "      <td>Adelaide Film Festival</td>\n",
       "      <td>Nominated</td>\n",
       "      <td>Best Feature</td>\n",
       "    </tr>\n",
       "  </tbody>\n",
       "</table>\n",
       "</div>"
      ],
      "text/plain": [
       "   year   movie_id                      awards  \\\n",
       "0  2017  tt5726616         Academy Awards, USA   \n",
       "1  2017  tt5726616          Golden Globes, USA   \n",
       "2  2017  tt5726616                BAFTA Awards   \n",
       "3  2017  tt5726616  Screen Actors Guild Awards   \n",
       "4  2017  tt5726616  AACTA International Awards   \n",
       "5  2017  tt5726616      Adelaide Film Festival   \n",
       "\n",
       "                                       won_nominated  \\\n",
       "0         Nominated; Nominated; Nominated; Nominated   \n",
       "1                    Nominated; Nominated; Nominated   \n",
       "2               Won; Nominated; Nominated; Nominated   \n",
       "3                                          Nominated   \n",
       "4  Nominated; Nominated; Nominated; Nominated; No...   \n",
       "5                                          Nominated   \n",
       "\n",
       "                                          categories  \n",
       "0  Best Performance by an Actor in a Leading Role...  \n",
       "1  Best Motion Picture - Drama; Best Performance ...  \n",
       "2  Best Screenplay (Adapted); Best Film; Best Lea...  \n",
       "3  Outstanding Performance by a Male Actor in a L...  \n",
       "4  Best Film; Best Direction; Best Screenplay; Be...  \n",
       "5                                       Best Feature  "
      ]
     },
     "execution_count": 12,
     "metadata": {},
     "output_type": "execute_result"
    }
   ],
   "source": [
    "pandas.read_csv('Movies_awards.csv')\n"
   ]
  },
  {
   "cell_type": "markdown",
   "metadata": {},
   "source": [
    "Other useful information, like the release date or the number of nominations, was also found in other sections and added to new files:"
   ]
  },
  {
   "cell_type": "code",
   "execution_count": 16,
   "metadata": {
    "collapsed": false,
    "scrolled": true
   },
   "outputs": [
    {
     "data": {
      "text/html": [
       "<div>\n",
       "<table border=\"1\" class=\"dataframe\">\n",
       "  <thead>\n",
       "    <tr style=\"text-align: right;\">\n",
       "      <th></th>\n",
       "      <th>movie_id</th>\n",
       "      <th>movie_title</th>\n",
       "      <th>realease_date</th>\n",
       "      <th>user_review</th>\n",
       "      <th>critic_reviews</th>\n",
       "      <th>popularity</th>\n",
       "      <th>awards</th>\n",
       "      <th>awards_wins</th>\n",
       "      <th>awards_nominations</th>\n",
       "    </tr>\n",
       "  </thead>\n",
       "  <tbody>\n",
       "    <tr>\n",
       "      <th>0</th>\n",
       "      <td>tt0217869</td>\n",
       "      <td>Unbreakable</td>\n",
       "      <td>22 November 2000 (USA)</td>\n",
       "      <td>1356</td>\n",
       "      <td>293</td>\n",
       "      <td>184</td>\n",
       "      <td>2 wins &amp; 12 nominations.</td>\n",
       "      <td>2</td>\n",
       "      <td>12</td>\n",
       "    </tr>\n",
       "    <tr>\n",
       "      <th>1</th>\n",
       "      <td>tt0180093</td>\n",
       "      <td>Requiem for a Dream</td>\n",
       "      <td>15 December 2000 (USA)</td>\n",
       "      <td>1930</td>\n",
       "      <td>238</td>\n",
       "      <td>245</td>\n",
       "      <td>Another 32 wins &amp; 61 nominations.</td>\n",
       "      <td>32</td>\n",
       "      <td>61</td>\n",
       "    </tr>\n",
       "    <tr>\n",
       "      <th>2</th>\n",
       "      <td>tt0208092</td>\n",
       "      <td>Snatch</td>\n",
       "      <td>19 January 2001 (USA)</td>\n",
       "      <td>735</td>\n",
       "      <td>151</td>\n",
       "      <td>307</td>\n",
       "      <td>4 wins &amp; 6 nominations.</td>\n",
       "      <td>4</td>\n",
       "      <td>6</td>\n",
       "    </tr>\n",
       "  </tbody>\n",
       "</table>\n",
       "</div>"
      ],
      "text/plain": [
       "    movie_id          movie_title           realease_date  user_review  \\\n",
       "0  tt0217869          Unbreakable  22 November 2000 (USA)         1356   \n",
       "1  tt0180093  Requiem for a Dream  15 December 2000 (USA)         1930   \n",
       "2  tt0208092               Snatch   19 January 2001 (USA)          735   \n",
       "\n",
       "   critic_reviews  popularity                             awards  awards_wins  \\\n",
       "0             293         184           2 wins & 12 nominations.            2   \n",
       "1             238         245  Another 32 wins & 61 nominations.           32   \n",
       "2             151         307            4 wins & 6 nominations.            4   \n",
       "\n",
       "   awards_nominations  \n",
       "0                  12  \n",
       "1                  61  \n",
       "2                   6  "
      ]
     },
     "execution_count": 16,
     "metadata": {},
     "output_type": "execute_result"
    }
   ],
   "source": [
    "pandas.read_csv('Movies_release_date.csv')"
   ]
  },
  {
   "cell_type": "code",
   "execution_count": 17,
   "metadata": {
    "collapsed": false
   },
   "outputs": [
    {
     "data": {
      "text/html": [
       "<div>\n",
       "<table border=\"1\" class=\"dataframe\">\n",
       "  <thead>\n",
       "    <tr style=\"text-align: right;\">\n",
       "      <th></th>\n",
       "      <th>movie_id</th>\n",
       "      <th>country</th>\n",
       "      <th>main_country</th>\n",
       "      <th>budget</th>\n",
       "      <th>budget_currency</th>\n",
       "      <th>opening_weekend</th>\n",
       "      <th>opening_weekend_country</th>\n",
       "      <th>opening_weekend_date</th>\n",
       "      <th>budget_USD</th>\n",
       "      <th>opening_weekend_USD</th>\n",
       "    </tr>\n",
       "  </thead>\n",
       "  <tbody>\n",
       "    <tr>\n",
       "      <th>0</th>\n",
       "      <td>tt0322674</td>\n",
       "      <td>Netherlands; Luxembourg</td>\n",
       "      <td>Netherlands</td>\n",
       "      <td>NaN</td>\n",
       "      <td>NaN</td>\n",
       "      <td>1207.0</td>\n",
       "      <td>USA</td>\n",
       "      <td>2005-05-06</td>\n",
       "      <td>NaN</td>\n",
       "      <td>1207.0</td>\n",
       "    </tr>\n",
       "    <tr>\n",
       "      <th>1</th>\n",
       "      <td>tt1206488</td>\n",
       "      <td>Spain; Peru</td>\n",
       "      <td>Spain</td>\n",
       "      <td>NaN</td>\n",
       "      <td>NaN</td>\n",
       "      <td>1914.0</td>\n",
       "      <td>USA</td>\n",
       "      <td>2010-08-27</td>\n",
       "      <td>NaN</td>\n",
       "      <td>1914.0</td>\n",
       "    </tr>\n",
       "    <tr>\n",
       "      <th>2</th>\n",
       "      <td>tt0265208</td>\n",
       "      <td>USA</td>\n",
       "      <td>USA</td>\n",
       "      <td>25000000.0</td>\n",
       "      <td>USD</td>\n",
       "      <td>3184.0</td>\n",
       "      <td>USA</td>\n",
       "      <td>2001-03-30</td>\n",
       "      <td>25000000.0</td>\n",
       "      <td>3184.0</td>\n",
       "    </tr>\n",
       "  </tbody>\n",
       "</table>\n",
       "</div>"
      ],
      "text/plain": [
       "    movie_id                  country main_country      budget  \\\n",
       "0  tt0322674  Netherlands; Luxembourg  Netherlands         NaN   \n",
       "1  tt1206488              Spain; Peru        Spain         NaN   \n",
       "2  tt0265208                      USA          USA  25000000.0   \n",
       "\n",
       "  budget_currency  opening_weekend opening_weekend_country  \\\n",
       "0             NaN           1207.0                     USA   \n",
       "1             NaN           1914.0                     USA   \n",
       "2             USD           3184.0                     USA   \n",
       "\n",
       "  opening_weekend_date  budget_USD  opening_weekend_USD  \n",
       "0           2005-05-06         NaN               1207.0  \n",
       "1           2010-08-27         NaN               1914.0  \n",
       "2           2001-03-30  25000000.0               3184.0  "
      ]
     },
     "execution_count": 17,
     "metadata": {},
     "output_type": "execute_result"
    }
   ],
   "source": [
    "pandas.read_csv('Movies_countries.csv')"
   ]
  },
  {
   "cell_type": "markdown",
   "metadata": {},
   "source": [
    "At this point and after some error cleaning, we finally had significant data to use a Supervised Learning model to predict the Oscars awards for 2018 based on the previous ones. Still, a problem remained: we needed to aggregate this data into an ML-ready dataset."
   ]
  },
  {
   "cell_type": "markdown",
   "metadata": {},
   "source": [
    "## Getting your data ML-ready\n",
    "\n",
    "As you can see in the excerpts of the described files, the fields we used to store the information were totally dependent on the page structure from where they were retrieved, but they all shared  a `movie_id` field that is the identifier for each film. \n",
    "\n",
    "To feed this data to a Supervised Learning model, you need a single file with a particular structure where:\n",
    "- Every row has to contain all the existing properties of a particular movie\n",
    "- Every column should contain one of the properties\n",
    "- One of the columns in the file should be the objective field (the target for our predictions)\n",
    "\n",
    "\n",
    "To fulfill the first conditions, we used the `movie_id` field as the key to join all the informations in all the retrieved files. We also changed the columns of the original CSVs to meet the second and third conditions. For example, we created new fields like `Oscar_best_picture_nominated`  and `Oscar_best_picture_won` with `yes` or `no` values based on the pairing of the `won_nominated` and `categories` fields of the `Movies_awards` file. When trying to predict each award, we selected we selected the objective field as the one that stored the information about the winners of that award, i.e. the `Oscar_best_picture_won` was selected as objective field when trying to predict the winner of the best picture award. After all these transformations, we finally reached an ML-ready dataset structure like the one we published in our [gallery](https://bigml.com/user/academy_awards/gallery/dataset/5a94302592fb565ed400103b). We were ready to start modeling!"
   ]
  },
  {
   "cell_type": "markdown",
   "metadata": {
    "collapsed": true
   },
   "source": [
    "## Training the models\n",
    "\n",
    "And now it was the time to train the real models that we used to predict this year's winners. The model was trained using all the available data from 2000 to 2016.  Let's see how to do that using the Python bindings."
   ]
  },
  {
   "cell_type": "code",
   "execution_count": 12,
   "metadata": {
    "collapsed": false
   },
   "outputs": [
    {
     "name": "stderr",
     "output_type": "stream",
     "text": [
      "Validation error: {'origin_dataset': 'Invalid dataset id'}\n",
      "Double-check the arguments for the call, please.\n"
     ]
    },
    {
     "name": "stdout",
     "output_type": "stream",
     "text": [
      "2018-03-16 22:12:55,343: Validation error: {'origin_dataset': 'Invalid dataset id'}\n",
      "Double-check the arguments for the call, please.\n"
     ]
    },
    {
     "name": "stderr",
     "output_type": "stream",
     "text": [
      "The resource couldn't be created: {'code': 400, 'status': {'code': -1206, 'message': 'Validation error', 'extra': {'origin_dataset': 'Invalid dataset id'}}}\n"
     ]
    },
    {
     "name": "stdout",
     "output_type": "stream",
     "text": [
      "2018-03-16 22:12:55,344: The resource couldn't be created: {'code': 400, 'status': {'code': -1206, 'message': 'Validation error', 'extra': {'origin_dataset': 'Invalid dataset id'}}}\n"
     ]
    },
    {
     "ename": "TypeError",
     "evalue": "'NoneType' object is not subscriptable",
     "output_type": "error",
     "traceback": [
      "\u001b[0;31m---------------------------------------------------------------------------\u001b[0m",
      "\u001b[0;31mTypeError\u001b[0m                                 Traceback (most recent call last)",
      "\u001b[0;32m<ipython-input-12-00384f7c26ed>\u001b[0m in \u001b[0;36m<module>\u001b[0;34m()\u001b[0m\n\u001b[1;32m     15\u001b[0m                                       \"name\": \"Movies 2000-2016\"})\n\u001b[1;32m     16\u001b[0m \u001b[0mapi\u001b[0m\u001b[0;34m.\u001b[0m\u001b[0mok\u001b[0m\u001b[0;34m(\u001b[0m\u001b[0mtraining_dataset\u001b[0m\u001b[0;34m)\u001b[0m\u001b[0;34m\u001b[0m\u001b[0m\n\u001b[0;32m---> 17\u001b[0;31m \u001b[0mprint\u001b[0m\u001b[0;34m(\u001b[0m\u001b[0;34m\"Number of movies to train: %s.\"\u001b[0m \u001b[0;34m%\u001b[0m \u001b[0mtraining_dataset\u001b[0m\u001b[0;34m[\u001b[0m\u001b[0;34m'object'\u001b[0m\u001b[0;34m]\u001b[0m\u001b[0;34m[\u001b[0m\u001b[0;34m'rows'\u001b[0m\u001b[0;34m]\u001b[0m\u001b[0;34m)\u001b[0m\u001b[0;34m\u001b[0m\u001b[0m\n\u001b[0m",
      "\u001b[0;31mTypeError\u001b[0m: 'NoneType' object is not subscriptable"
     ]
    }
   ],
   "source": [
    "from bigml.api import BigML\n",
    "\n",
    "# COMPLETE_DATASET = \"dataset/5aa2c1e0e3de6875f90049cf\"\n",
    "\n",
    "COMPLETE_DATASET = \"shared/dataset/5T3HptQKaQs57vgGi8f4vq1oSAT\"\n",
    "\n",
    "# creating the API connection\n",
    "api = BigML() # the BIGML_USERNAME and BIGML_API_KEY environment variables are\n",
    "              # expected.\n",
    "\n",
    "# creating the training dataset with movies from 2000 to 2016\n",
    "filter_expression = [\"<=\", 2000, [\"field\", \"year\"], 2016] # 2000 <= year <= 2016\n",
    "training_dataset = api.create_dataset(COMPLETE_DATASET,\n",
    "                                     {\"json_filter\": filter_expression,\n",
    "                                      \"name\": \"Movies 2000-2016\"})\n",
    "api.ok(training_dataset)\n",
    "print(\"Number of movies to train: %s.\" % training_dataset['object']['rows'])"
   ]
  },
  {
   "cell_type": "markdown",
   "metadata": {},
   "source": [
    "The selected type of model was a `Deepnet`, i.e. BigML's deep neural network, which provides a unique first-class automatic optimization option ([Automatic Network Search](https://blog.bigml.com/2017/10/04/deepnets-behind-the-scenes/)). By using it, we tried to ensure that the right topology was used so that we obtained a top performing classifier. A `Deepnet` was built for each award category by configuring the objective field as the one storing the award winners' information. We'll take as an example the **Best Picture Award**. The information about the previous winners of this award is stored in the `Oscar_Best_Picture_won` field, so we created a `Deepnet` and configured this field as its objective field."
   ]
  },
  {
   "cell_type": "code",
   "execution_count": 2,
   "metadata": {
    "collapsed": false
   },
   "outputs": [
    {
     "data": {
      "text/plain": [
       "True"
      ]
     },
     "execution_count": 2,
     "metadata": {},
     "output_type": "execute_result"
    }
   ],
   "source": [
    "deepnet = api.create_deepnet(training_dataset,\n",
    "                             {\"objective_field\": \"Oscar_Best_Picture_won\",\n",
    "                              \"search\":  True})\n",
    "api.ok(deepnet)"
   ]
  },
  {
   "cell_type": "markdown",
   "metadata": {},
   "source": [
    "And that's all! We did not need to worry about trying to discover topologies or arguments to find the best performing network. Each Deepnet took around 30 minutes to train since it involved training dozens of different networks in the background, but in the end it produced the top-notch neural network without our intervention. Would that be enough to ensure sound predictions?"
   ]
  },
  {
   "cell_type": "markdown",
   "metadata": {},
   "source": [
    "## Ensuring the predictions' quality\n",
    "\n",
    "Before publishing any result, we wanted to ensure that our model produced sensible predictions, so we started by splitting our dataset in two: a training and a test dataset. We chose to filter the instances by date, so that the training dataset was built on the films dated from 2000 to 2012 and the test dataset contained those from 2013 to 2016. After building the model using the training dataset, we also evaluated it by running the instances in the test dataset through it and comparing the predicted results to the real ones. The split can be easily done in BigML thanks to our transformations language: [flatline](https://github.com/bigmlcom/flatline).\n",
    "\n"
   ]
  },
  {
   "cell_type": "code",
   "execution_count": 8,
   "metadata": {
    "collapsed": false
   },
   "outputs": [
    {
     "name": "stdout",
     "output_type": "stream",
     "text": [
      "2018-03-08 23:36:28,902: Validation error: {'origin_dataset': 'Invalid dataset id'}\n",
      "Double-check the arguments for the call, please.\n",
      "2018-03-08 23:36:28,902: The resource couldn't be created: {'status': {'extra': {'origin_dataset': 'Invalid dataset id'}, 'code': -1206, 'message': 'Validation error'}, 'code': 400}\n",
      "2018-03-08 23:36:30,499: Validation error: {'origin_dataset': 'Invalid dataset id'}\n",
      "Double-check the arguments for the call, please.\n",
      "2018-03-08 23:36:30,500: The resource couldn't be created: {'status': {'extra': {'origin_dataset': 'Invalid dataset id'}, 'code': -1206, 'message': 'Validation error'}, 'code': 400}\n"
     ]
    }
   ],
   "source": [
    "filter_expression = [\"<=\", 2000, [\"field\", \"year\"], 2012] # 2000 <= year <= 2012\n",
    "training_dataset = api.create_dataset(COMPLETE_DATASET,\n",
    "                                     {\"json_filter\": filter_expression,\n",
    "                                      \"name\": \"Movies 2000-2012\"})\n",
    "api.ok(training_dataset)\n",
    "\n",
    "filter_expression = [\"<=\", 2013, [\"field\", \"year\"], 2016] # 2013 <= year <= 2016\n",
    "test_dataset = api.create_dataset(COMPLETE_DATASET,\n",
    "                                  {\"json_filter\": filter_expression,\n",
    "                                   \"name\": \"Movies 2013-2016\"})\n",
    "api.ok(test_dataset)\n",
    "\n",
    "evaluation_deepnet = api.create_deepnet(training_dataset,\n",
    "                                        {\"objective_field\": \"Oscar_Best_Picture_won\",\n",
    "                                         \"search\":  True})\n",
    "api.ok(evaluation_deepnet)\n",
    "\n",
    "evaluation = api.create_evaluation(evaluation_deepnet, test_dataset)\n",
    "api.ok(evaluation)\n",
    "\n",
    "print(evaluation['object']['result']['model']['accuracy'])\n"
   ]
  },
  {
   "cell_type": "markdown",
   "metadata": {},
   "source": [
    "## And the winner is...\n",
    "\n",
    "To get the predicted winners, we just used the data we had for the movies in 2017 and created a `Batch Prediction` using the `Deepnet` associated to the award category that we meant to predict. The predictions included whether the movie was predicted to win the prize and also the probability of this prediction."
   ]
  },
  {
   "cell_type": "code",
   "execution_count": null,
   "metadata": {
    "collapsed": true
   },
   "outputs": [],
   "source": [
    "batch_prediction = api.create_batch_prediction(deepnet, {\"probability\": True})\n",
    "api.ok(batch_prediction)"
   ]
  },
  {
   "cell_type": "markdown",
   "metadata": {},
   "source": [
    "And, ta da! The movies that were considered to be the winners were the ones predicted to win each award with the highest probability. This year, BigML’s predictions proved right, [6 out 6](https://blog.bigml.com/2018/03/05/2018-oscars-predictions-proved-right-6-out-of-6/) for the winners of the major award categories. Not by magic or luck, [just Machine Learning](https://medium.com/enrique-dans/and-this-years-oscar-goes-to-bigml-machine-learning-1823837ae3aa) put to work!"
   ]
  },
  {
   "cell_type": "code",
   "execution_count": null,
   "metadata": {
    "collapsed": true
   },
   "outputs": [],
   "source": []
  }
 ],
 "metadata": {
  "kernelspec": {
   "display_name": "Python 3",
   "language": "python",
   "name": "python3"
  },
  "language_info": {
   "codemirror_mode": {
    "name": "ipython",
    "version": 3
   },
   "file_extension": ".py",
   "mimetype": "text/x-python",
   "name": "python",
   "nbconvert_exporter": "python",
   "pygments_lexer": "ipython3",
   "version": "3.5.2"
  }
 },
 "nbformat": 4,
 "nbformat_minor": 1
}
